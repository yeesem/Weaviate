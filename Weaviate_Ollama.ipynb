{
 "cells": [
  {
   "cell_type": "code",
   "execution_count": 1,
   "metadata": {},
   "outputs": [
    {
     "name": "stdout",
     "output_type": "stream",
     "text": [
      "<class 'list'> 10\n",
      "{\n",
      "  \"Category\": \"SCIENCE\",\n",
      "  \"Question\": \"This organ removes excess glucose from the blood & stores it as glycogen\",\n",
      "  \"Answer\": \"Liver\"\n",
      "}\n"
     ]
    }
   ],
   "source": [
    "import requests\n",
    "import json\n",
    "\n",
    "# Download the data\n",
    "resp = requests.get('https://raw.githubusercontent.com/weaviate-tutorials/quickstart/main/data/jeopardy_tiny.json')\n",
    "data = json.loads(resp.text)  # Load data\n",
    "\n",
    "# Parse the JSON and preview it\n",
    "print(type(data), len(data))\n",
    "\n",
    "def json_print(data):\n",
    "    print(json.dumps(data, indent=2))\n",
    "\n",
    "json_print(data[0])"
   ]
  },
  {
   "cell_type": "code",
   "execution_count": 4,
   "metadata": {},
   "outputs": [
    {
     "name": "stdout",
     "output_type": "stream",
     "text": [
      "True\n"
     ]
    }
   ],
   "source": [
    "import weaviate\n",
    "\n",
    "client = weaviate.connect_to_local()\n",
    "\n",
    "print(client.is_ready())"
   ]
  },
  {
   "cell_type": "code",
   "execution_count": 5,
   "metadata": {},
   "outputs": [
    {
     "data": {
      "text/plain": [
       "{'grpcMaxMessageSize': 104858000,\n",
       " 'hostname': 'http://[::]:8080',\n",
       " 'modules': {'generative-anthropic': {'documentationHref': 'https://docs.anthropic.com/en/api/getting-started',\n",
       "   'name': 'Generative Search - Anthropic'},\n",
       "  'generative-anyscale': {'documentationHref': 'https://docs.anyscale.com/endpoints/overview',\n",
       "   'name': 'Generative Search - Anyscale'},\n",
       "  'generative-aws': {'documentationHref': 'https://docs.aws.amazon.com/bedrock/latest/APIReference/welcome.html',\n",
       "   'name': 'Generative Search - AWS'},\n",
       "  'generative-cohere': {'documentationHref': 'https://docs.cohere.com/reference/chat',\n",
       "   'name': 'Generative Search - Cohere'},\n",
       "  'generative-databricks': {'documentationHref': 'https://docs.databricks.com/en/machine-learning/foundation-models/api-reference.html#completion-task',\n",
       "   'name': 'Generative Search - Databricks'},\n",
       "  'generative-friendliai': {'documentationHref': 'https://docs.friendli.ai/openapi/create-chat-completions',\n",
       "   'name': 'Generative Search - FriendliAI'},\n",
       "  'generative-google': {'documentationHref': 'https://cloud.google.com/vertex-ai/docs/generative-ai/chat/test-chat-prompts',\n",
       "   'name': 'Generative Search - Google'},\n",
       "  'generative-mistral': {'documentationHref': 'https://docs.mistral.ai/api/',\n",
       "   'name': 'Generative Search - Mistral'},\n",
       "  'generative-octoai': {'documentationHref': 'https://octo.ai/docs/text-gen-solution/getting-started',\n",
       "   'name': 'Generative Search - OctoAI (deprecated)'},\n",
       "  'generative-ollama': {'documentationHref': 'https://github.com/ollama/ollama/blob/main/docs/api.md#generate-a-completion',\n",
       "   'name': 'Generative Search - Ollama'},\n",
       "  'generative-openai': {'documentationHref': 'https://platform.openai.com/docs/api-reference/completions',\n",
       "   'name': 'Generative Search - OpenAI'},\n",
       "  'multi2vec-cohere': {'documentationHref': 'https://docs.cohere.ai/embedding-wiki/',\n",
       "   'name': 'Cohere Module'},\n",
       "  'multi2vec-google': {'documentationHref': 'https://cloud.google.com/vertex-ai/generative-ai/docs/embeddings/get-multimodal-embeddings',\n",
       "   'name': 'Google Multimodal Module'},\n",
       "  'multi2vec-jinaai': {'documentationHref': 'https://jina.ai/embeddings/',\n",
       "   'name': 'JinaAI CLIP Module'},\n",
       "  'multi2vec-voyageai': {'documentationHref': 'https://docs.voyageai.com/docs/multimodal-embeddings',\n",
       "   'name': 'VoyageAI Multi Modal Module'},\n",
       "  'reranker-cohere': {'documentationHref': 'https://txt.cohere.com/rerank/',\n",
       "   'name': 'Reranker - Cohere'},\n",
       "  'reranker-jinaai': {'documentationHref': 'https://jina.ai/reranker',\n",
       "   'name': 'Reranker - Jinaai'},\n",
       "  'reranker-voyageai': {'documentationHref': 'https://docs.voyageai.com/reference/reranker-api',\n",
       "   'name': 'Reranker - VoyageAI'},\n",
       "  'text2vec-aws': {'documentationHref': 'https://docs.aws.amazon.com/bedrock/latest/userguide/titan-embedding-models.html',\n",
       "   'name': 'AWS Module'},\n",
       "  'text2vec-cohere': {'documentationHref': 'https://docs.cohere.ai/embedding-wiki/',\n",
       "   'name': 'Cohere Module'},\n",
       "  'text2vec-databricks': {'documentationHref': 'https://docs.databricks.com/en/machine-learning/foundation-models/api-reference.html#embedding-task',\n",
       "   'name': 'Databricks Foundation Models Module - Embeddings'},\n",
       "  'text2vec-google': {'documentationHref': 'https://cloud.google.com/vertex-ai/docs/generative-ai/embeddings/get-text-embeddings',\n",
       "   'name': 'Google Module'},\n",
       "  'text2vec-huggingface': {'documentationHref': 'https://huggingface.co/docs/api-inference/detailed_parameters#feature-extraction-task',\n",
       "   'name': 'Hugging Face Module'},\n",
       "  'text2vec-jinaai': {'documentationHref': 'https://jina.ai/embeddings/',\n",
       "   'name': 'JinaAI Module'},\n",
       "  'text2vec-mistral': {'documentationHref': 'https://docs.mistral.ai/api/#operation/createEmbedding',\n",
       "   'name': 'Mistral Module'},\n",
       "  'text2vec-octoai': {'documentationHref': 'https://octo.ai/docs/text-gen-solution/getting-started',\n",
       "   'name': 'OctoAI Module (deprecated)'},\n",
       "  'text2vec-ollama': {'documentationHref': 'https://github.com/ollama/ollama/blob/main/docs/api.md#generate-embeddings',\n",
       "   'name': 'Ollama Module'},\n",
       "  'text2vec-openai': {'documentationHref': 'https://platform.openai.com/docs/guides/embeddings/what-are-embeddings',\n",
       "   'name': 'OpenAI Module'},\n",
       "  'text2vec-voyageai': {'documentationHref': 'https://docs.voyageai.com/docs/embeddings',\n",
       "   'name': 'VoyageAI Module'},\n",
       "  'text2vec-weaviate': {'documentationHref': 'https://api.embedding.weaviate.io',\n",
       "   'name': 'Weaviate Embedding Module'}},\n",
       " 'version': '1.28.4'}"
      ]
     },
     "execution_count": 5,
     "metadata": {},
     "output_type": "execute_result"
    }
   ],
   "source": [
    "client.get_meta()"
   ]
  },
  {
   "cell_type": "code",
   "execution_count": null,
   "metadata": {},
   "outputs": [
    {
     "data": {
      "text/plain": [
       "<weaviate.collections.collection.sync.Collection at 0x1c0b633fb90>"
      ]
     },
     "execution_count": 91,
     "metadata": {},
     "output_type": "execute_result"
    }
   ],
   "source": [
    "from weaviate.classes.config import Configure\n",
    "  \n",
    "if client.collections.exists(\"DemoCollection\"):\n",
    "    client.collections.delete(\"DemoCollection\")\n",
    "  \n",
    "client.collections.create(\n",
    "    \"DemoCollection\",\n",
    "    vectorizer_config=[\n",
    "        Configure.NamedVectors.text2vec_ollama(\n",
    "            name=\"title_vector\",    \n",
    "            source_properties=[\"title\"],\n",
    "            api_endpoint=\"http://host.docker.internal:11434\",  # If using Docker, use this to contact your local Ollama instance\n",
    "            model=\"nomic-embed-text\",  # The model to use, e.g. \"nomic-embed-text\"\n",
    "        )\n",
    "    ],\n",
    "    generative_config=Configure.Generative.ollama(\n",
    "        api_endpoint=\"http://host.docker.internal:11434\",  # If using Docker, use this to contact your local Ollama instance\n",
    "        model=\"llama3.1\" \n",
    "    )\n",
    ")"
   ]
  },
  {
   "cell_type": "code",
   "execution_count": 92,
   "metadata": {},
   "outputs": [],
   "source": [
    "collection = client.collections.get(\"DemoCollection\")"
   ]
  },
  {
   "cell_type": "code",
   "execution_count": 93,
   "metadata": {},
   "outputs": [
    {
     "name": "stdout",
     "output_type": "stream",
     "text": [
      "importing question: 1 -> UUID 2e3d7a13-f97d-56a7-8237-e3b2ffdd8ce3\n",
      "{'answer': 'Liver', 'question': 'This organ removes excess glucose from the blood & stores it as glycogen', 'category': 'SCIENCE'}\n",
      "\n",
      "importing question: 2 -> UUID 75e0f50c-bddd-5d88-ae87-bb0a3133947a\n",
      "{'answer': 'Elephant', 'question': \"It's the only living mammal in the order Proboseidea\", 'category': 'ANIMALS'}\n",
      "\n",
      "importing question: 3 -> UUID 01ae010e-f033-5ba1-9541-7efa117c8aef\n",
      "{'answer': 'the nose or snout', 'question': 'The gavial looks very much like a crocodile except for this bodily feature', 'category': 'ANIMALS'}\n",
      "\n",
      "importing question: 4 -> UUID 2ba855d5-89ee-5eb0-995c-362a2b6b1090\n",
      "{'answer': 'Antelope', 'question': 'Weighing around a ton, the eland is the largest species of this animal in Africa', 'category': 'ANIMALS'}\n",
      "\n",
      "importing question: 5 -> UUID 5cf0152e-3c9d-5279-8598-7ab034e42f58\n",
      "{'answer': 'the diamondback rattler', 'question': 'Heaviest of all poisonous snakes is this North American rattlesnake', 'category': 'ANIMALS'}\n",
      "\n",
      "importing question: 6 -> UUID 914b038c-aadb-503d-98ab-f0ce0c5db858\n",
      "{'answer': 'species', 'question': \"2000 news: the Gunnison sage grouse isn't just another northern sage grouse, but a new one of this classification\", 'category': 'SCIENCE'}\n",
      "\n",
      "importing question: 7 -> UUID cf163d77-cbc9-5a15-9104-310eb79fccd9\n",
      "{'answer': 'wire', 'question': 'A metal that is ductile can be pulled into this while cold & under pressure', 'category': 'SCIENCE'}\n",
      "\n",
      "importing question: 8 -> UUID e6873242-52e4-5249-b3bf-771d8093676c\n",
      "{'answer': 'DNA', 'question': 'In 1953 Watson & Crick built a model of the molecular structure of this, the gene-carrying substance', 'category': 'SCIENCE'}\n",
      "\n",
      "importing question: 9 -> UUID 40e17988-c987-5794-87ca-134ae8395fd9\n",
      "{'answer': 'the atmosphere', 'question': 'Changes in the tropospheric layer of this are what gives us weather', 'category': 'SCIENCE'}\n",
      "\n",
      "importing question: 10 -> UUID 9eecb30b-36f5-5585-83cd-dca810e33aa1\n",
      "{'answer': 'Sound barrier', 'question': 'In 70-degree air, a plane traveling at about 1,130 feet per second breaks it', 'category': 'SCIENCE'}\n",
      "\n"
     ]
    }
   ],
   "source": [
    "from weaviate.util import generate_uuid5 \n",
    "\n",
    "with collection.batch.dynamic() as batch:\n",
    "    for i, d in enumerate(data):\n",
    "        \n",
    "        properties = {\n",
    "            \"answer\": d[\"Answer\"],\n",
    "            \"question\": d[\"Question\"],\n",
    "            \"category\": d[\"Category\"],\n",
    "        }\n",
    "        \n",
    "        object_uuid = generate_uuid5(properties)\n",
    "        print(f\"importing question: {i+1} -> UUID {object_uuid}\")\n",
    "        print(properties)\n",
    "        print()\n",
    "        \n",
    "        batch.add_object(\n",
    "            properties = properties,\n",
    "            uuid = object_uuid\n",
    "        )\n",
    "        \n",
    "        if batch.number_errors > 10:\n",
    "            print(\"Batch import stopped due to excessive errors.\")\n",
    "            break"
   ]
  },
  {
   "cell_type": "code",
   "execution_count": 94,
   "metadata": {},
   "outputs": [
    {
     "name": "stdout",
     "output_type": "stream",
     "text": [
      "Number of failed imports: 10\n",
      "First failed object: ErrorObject(message='WeaviateInsertManyAllFailedError(\\'Every object failed during insertion. Here is the set of all errors: send POST request: Post \"http://host.docker.internal:11434/api/embed\": dial tcp 192.168.65.254:11434: connect: connection refused\\')', object_=BatchObject(collection='DemoCollection', properties={'answer': 'Liver', 'question': 'This organ removes excess glucose from the blood & stores it as glycogen', 'category': 'SCIENCE'}, references=None, uuid='2e3d7a13-f97d-56a7-8237-e3b2ffdd8ce3', vector=None, tenant=None, index=0, retry_count=0), original_uuid=None)\n"
     ]
    }
   ],
   "source": [
    "failed_objects = collection.batch.failed_objects\n",
    "if failed_objects:\n",
    "    print(f\"Number of failed imports: {len(failed_objects)}\")\n",
    "    print(f\"First failed object: {failed_objects[0]}\")"
   ]
  },
  {
   "cell_type": "code",
   "execution_count": null,
   "metadata": {},
   "outputs": [],
   "source": [
    "for item in collection.iterator():\n",
    "    print(item.uuid, item.properties)"
   ]
  },
  {
   "cell_type": "code",
   "execution_count": 44,
   "metadata": {},
   "outputs": [
    {
     "data": {
      "text/plain": [
       "QueryReturn(objects=[])"
      ]
     },
     "execution_count": 44,
     "metadata": {},
     "output_type": "execute_result"
    }
   ],
   "source": [
    "collection.query.fetch_objects(\n",
    "    include_vector=True,\n",
    "    limit = 2\n",
    ")"
   ]
  },
  {
   "cell_type": "code",
   "execution_count": 45,
   "metadata": {},
   "outputs": [
    {
     "name": "stdout",
     "output_type": "stream",
     "text": [
      "0\n"
     ]
    }
   ],
   "source": [
    "response = collection.aggregate.over_all(total_count=True)\n",
    "\n",
    "print(response.total_count)"
   ]
  },
  {
   "cell_type": "code",
   "execution_count": null,
   "metadata": {},
   "outputs": [],
   "source": []
  }
 ],
 "metadata": {
  "kernelspec": {
   "display_name": "Python 3",
   "language": "python",
   "name": "python3"
  },
  "language_info": {
   "codemirror_mode": {
    "name": "ipython",
    "version": 3
   },
   "file_extension": ".py",
   "mimetype": "text/x-python",
   "name": "python",
   "nbconvert_exporter": "python",
   "pygments_lexer": "ipython3",
   "version": "3.11.9"
  }
 },
 "nbformat": 4,
 "nbformat_minor": 2
}
